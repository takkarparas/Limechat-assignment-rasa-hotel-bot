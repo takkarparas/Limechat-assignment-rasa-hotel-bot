{
  "nbformat": 4,
  "nbformat_minor": 0,
  "metadata": {
    "colab": {
      "name": "Rasa chatbot.ipynb",
      "provenance": [],
      "mount_file_id": "1vf4sENs_iyyFvBp61M7AbrjpGwQ0sNKe",
      "authorship_tag": "ABX9TyMGfknme9GfbbdpjBs3INct",
      "include_colab_link": true
    },
    "kernelspec": {
      "name": "python3",
      "display_name": "Python 3"
    }
  },
  "cells": [
    {
      "cell_type": "markdown",
      "metadata": {
        "id": "view-in-github",
        "colab_type": "text"
      },
      "source": [
        "<a href=\"https://colab.research.google.com/github/takkarparas/Limechat-assignment-rasa-hotel-bot/blob/main/Rasa_chatbot.ipynb\" target=\"_parent\"><img src=\"https://colab.research.google.com/assets/colab-badge.svg\" alt=\"Open In Colab\"/></a>"
      ]
    },
    {
      "cell_type": "code",
      "metadata": {
        "id": "XiVoEpQNGY5P"
      },
      "source": [
        "pip install rasa-nlu"
      ],
      "execution_count": null,
      "outputs": []
    },
    {
      "cell_type": "code",
      "metadata": {
        "id": "JExdeyDbhsWP"
      },
      "source": [
        "%cd drive"
      ],
      "execution_count": null,
      "outputs": []
    },
    {
      "cell_type": "code",
      "metadata": {
        "id": "-XoU6fa7h4ZG"
      },
      "source": [
        "%cd My Drive"
      ],
      "execution_count": null,
      "outputs": []
    },
    {
      "cell_type": "code",
      "metadata": {
        "id": "7581OoyiiW22"
      },
      "source": [
        "%cd rasabot"
      ],
      "execution_count": null,
      "outputs": []
    },
    {
      "cell_type": "code",
      "metadata": {
        "id": "0qyuD0wVid8q"
      },
      "source": [
        "pip install rasa-x -i https://pypi.rasa.com/simple"
      ],
      "execution_count": null,
      "outputs": []
    },
    {
      "cell_type": "code",
      "metadata": {
        "id": "pdnZNKtnGk21"
      },
      "source": [
        "!pip install rasa[spacy]"
      ],
      "execution_count": null,
      "outputs": []
    },
    {
      "cell_type": "code",
      "metadata": {
        "id": "jmQw0ed0jMxC"
      },
      "source": [
        "!python -m spacy download en_core_web_md"
      ],
      "execution_count": null,
      "outputs": []
    },
    {
      "cell_type": "code",
      "metadata": {
        "id": "qvU5rsVfHZC1"
      },
      "source": [
        "!python -m spacy link en_core_web_md en --force"
      ],
      "execution_count": null,
      "outputs": []
    },
    {
      "cell_type": "code",
      "metadata": {
        "id": "yCwBVDS9kclE"
      },
      "source": [
        "!rasa shell"
      ],
      "execution_count": null,
      "outputs": []
    },
    {
      "cell_type": "markdown",
      "metadata": {
        "id": "50q-HL6EOtjl"
      },
      "source": [
        "# To train the model  for changes run below cell"
      ]
    },
    {
      "cell_type": "code",
      "metadata": {
        "id": "Dks8PJVdO2nd"
      },
      "source": [
        "!rasa train"
      ],
      "execution_count": null,
      "outputs": []
    }
  ]
}