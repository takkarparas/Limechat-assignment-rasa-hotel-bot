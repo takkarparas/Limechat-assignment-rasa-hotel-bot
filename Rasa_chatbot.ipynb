{
  "nbformat": 4,
  "nbformat_minor": 0,
  "metadata": {
    "colab": {
      "name": "Rasa chatbot.ipynb",
      "provenance": [],
      "authorship_tag": "ABX9TyMGnUQQmcuQqSB7Wx3GnECc",
      "include_colab_link": true
    },
    "kernelspec": {
      "name": "python3",
      "display_name": "Python 3"
    }
  },
  "cells": [
    {
      "cell_type": "markdown",
      "metadata": {
        "id": "view-in-github",
        "colab_type": "text"
      },
      "source": [
        "<a href=\"https://colab.research.google.com/github/takkarparas/Limechat-assignment-rasa-hotel-bot/blob/main/Rasa_chatbot.ipynb\" target=\"_parent\"><img src=\"https://colab.research.google.com/assets/colab-badge.svg\" alt=\"Open In Colab\"/></a>"
      ]
    },
    {
      "cell_type": "code",
      "metadata": {
        "id": "XiVoEpQNGY5P",
        "outputId": "cdd75450-77f8-4f2c-b7c2-d478bde024ad",
        "colab": {
          "base_uri": "https://localhost:8080/",
          "height": 1000
        }
      },
      "source": [
        "pip install rasa-nlu"
      ],
      "execution_count": 1,
      "outputs": [
        {
          "output_type": "stream",
          "text": [
            "Collecting rasa-nlu\n",
            "\u001b[?25l  Downloading https://files.pythonhosted.org/packages/19/c4/c6146c445a17b6ce414d773f93c941c44ca16720609000ae3d01409f9dfb/rasa_nlu-0.15.1-py3-none-any.whl (147kB)\n",
            "\r\u001b[K     |██▎                             | 10kB 16.0MB/s eta 0:00:01\r\u001b[K     |████▌                           | 20kB 1.5MB/s eta 0:00:01\r\u001b[K     |██████▊                         | 30kB 2.1MB/s eta 0:00:01\r\u001b[K     |█████████                       | 40kB 1.6MB/s eta 0:00:01\r\u001b[K     |███████████▏                    | 51kB 1.9MB/s eta 0:00:01\r\u001b[K     |█████████████▍                  | 61kB 2.2MB/s eta 0:00:01\r\u001b[K     |███████████████▋                | 71kB 2.4MB/s eta 0:00:01\r\u001b[K     |█████████████████▉              | 81kB 2.6MB/s eta 0:00:01\r\u001b[K     |████████████████████            | 92kB 2.8MB/s eta 0:00:01\r\u001b[K     |██████████████████████▎         | 102kB 2.7MB/s eta 0:00:01\r\u001b[K     |████████████████████████▌       | 112kB 2.7MB/s eta 0:00:01\r\u001b[K     |██████████████████████████▊     | 122kB 2.7MB/s eta 0:00:01\r\u001b[K     |█████████████████████████████   | 133kB 2.7MB/s eta 0:00:01\r\u001b[K     |███████████████████████████████▏| 143kB 2.7MB/s eta 0:00:01\r\u001b[K     |████████████████████████████████| 153kB 2.7MB/s \n",
            "\u001b[?25hRequirement already satisfied: requests~=2.20 in /usr/local/lib/python3.6/dist-packages (from rasa-nlu) (2.23.0)\n",
            "Collecting klein~=17.10\n",
            "  Downloading https://files.pythonhosted.org/packages/8a/6b/adc97a7bb3fb781fdd9e49177ad873c1479f87b9745271cbeda81cbb9cc8/klein-17.10.0-py2.py3-none-any.whl\n",
            "Collecting packaging~=18.0\n",
            "  Downloading https://files.pythonhosted.org/packages/89/d1/92e6df2e503a69df9faab187c684585f0136662c12bb1f36901d426f3fab/packaging-18.0-py2.py3-none-any.whl\n",
            "Collecting gevent~=1.3\n",
            "\u001b[?25l  Downloading https://files.pythonhosted.org/packages/a9/95/b53b78b15abbe547bed7381ca9c8319c86d6b646a30d0831e26c307a5fa7/gevent-1.5.0-cp36-cp36m-manylinux2010_x86_64.whl (5.1MB)\n",
            "\u001b[K     |████████████████████████████████| 5.1MB 8.4MB/s \n",
            "\u001b[?25hCollecting simplejson~=3.13\n",
            "\u001b[?25l  Downloading https://files.pythonhosted.org/packages/73/96/1e6b19045375890068d7342cbe280dd64ae73fd90b9735b5efb8d1e044a1/simplejson-3.17.2-cp36-cp36m-manylinux2010_x86_64.whl (127kB)\n",
            "\u001b[K     |████████████████████████████████| 133kB 34.9MB/s \n",
            "\u001b[?25hCollecting typing~=3.6\n",
            "\u001b[?25l  Downloading https://files.pythonhosted.org/packages/05/d9/6eebe19d46bd05360c9a9aae822e67a80f9242aabbfc58b641b957546607/typing-3.7.4.3.tar.gz (78kB)\n",
            "\u001b[K     |████████████████████████████████| 81kB 8.6MB/s \n",
            "\u001b[?25hRequirement already satisfied: jsonschema~=2.6 in /usr/local/lib/python3.6/dist-packages (from rasa-nlu) (2.6.0)\n",
            "Collecting ruamel.yaml~=0.15.7\n",
            "\u001b[?25l  Downloading https://files.pythonhosted.org/packages/e7/9f/83bb34eaf84032b0b54fcc4a6aff1858572d279d65a301c7ae875f523df5/ruamel.yaml-0.15.100-cp36-cp36m-manylinux1_x86_64.whl (656kB)\n",
            "\u001b[K     |████████████████████████████████| 665kB 46.1MB/s \n",
            "\u001b[?25hRequirement already satisfied: tqdm~=4.19 in /usr/local/lib/python3.6/dist-packages (from rasa-nlu) (4.41.1)\n",
            "Collecting cloudpickle~=0.6.1\n",
            "  Downloading https://files.pythonhosted.org/packages/fc/87/7b7ef3038b4783911e3fdecb5c566e3a817ce3e890e164fc174c088edb1e/cloudpickle-0.6.1-py2.py3-none-any.whl\n",
            "Requirement already satisfied: numpy>=1.16 in /usr/local/lib/python3.6/dist-packages (from rasa-nlu) (1.18.5)\n",
            "Collecting future~=0.17.1\n",
            "\u001b[?25l  Downloading https://files.pythonhosted.org/packages/90/52/e20466b85000a181e1e144fd8305caf2cf475e2f9674e797b222f8105f5f/future-0.17.1.tar.gz (829kB)\n",
            "\u001b[K     |████████████████████████████████| 829kB 46.0MB/s \n",
            "\u001b[?25hCollecting scikit-learn~=0.20.2\n",
            "\u001b[?25l  Downloading https://files.pythonhosted.org/packages/96/5b/5da31a6572dc6b7b2846a7cfcbe2e060a0e6af0e1059a6516965e40371b7/scikit_learn-0.20.4-cp36-cp36m-manylinux1_x86_64.whl (5.4MB)\n",
            "\u001b[K     |████████████████████████████████| 5.4MB 14.9MB/s \n",
            "\u001b[?25hCollecting boto3~=1.9\n",
            "\u001b[?25l  Downloading https://files.pythonhosted.org/packages/85/54/099a2ea5d4b2d5931a26f280a7585f613b1fafaac9189e489a9e25004a01/boto3-1.16.13-py2.py3-none-any.whl (129kB)\n",
            "\u001b[K     |████████████████████████████████| 133kB 47.3MB/s \n",
            "\u001b[?25hCollecting coloredlogs~=10.0\n",
            "\u001b[?25l  Downloading https://files.pythonhosted.org/packages/08/0f/7877fc42fff0b9d70b6442df62d53b3868d3a6ad1b876bdb54335b30ff23/coloredlogs-10.0-py2.py3-none-any.whl (47kB)\n",
            "\u001b[K     |████████████████████████████████| 51kB 4.8MB/s \n",
            "\u001b[?25hCollecting matplotlib~=2.2\n",
            "\u001b[?25l  Downloading https://files.pythonhosted.org/packages/49/cc/94dd12083678ffbfee7cf5ac8bf341b0e6dac64c422851db094e532d1524/matplotlib-2.2.5-cp36-cp36m-manylinux1_x86_64.whl (12.8MB)\n",
            "\u001b[K     |████████████████████████████████| 12.8MB 172kB/s \n",
            "\u001b[?25hRequirement already satisfied: chardet<4,>=3.0.2 in /usr/local/lib/python3.6/dist-packages (from requests~=2.20->rasa-nlu) (3.0.4)\n",
            "Requirement already satisfied: idna<3,>=2.5 in /usr/local/lib/python3.6/dist-packages (from requests~=2.20->rasa-nlu) (2.10)\n",
            "Requirement already satisfied: urllib3!=1.25.0,!=1.25.1,<1.26,>=1.21.1 in /usr/local/lib/python3.6/dist-packages (from requests~=2.20->rasa-nlu) (1.24.3)\n",
            "Requirement already satisfied: certifi>=2017.4.17 in /usr/local/lib/python3.6/dist-packages (from requests~=2.20->rasa-nlu) (2020.6.20)\n",
            "Collecting Twisted>=15.5\n",
            "\u001b[?25l  Downloading https://files.pythonhosted.org/packages/b7/04/1a664c9e5ec0224a1c1a154ddecaa4dc7b8967521bba225efcc41a03d5f3/Twisted-20.3.0-cp36-cp36m-manylinux1_x86_64.whl (3.1MB)\n",
            "\u001b[K     |████████████████████████████████| 3.1MB 46.3MB/s \n",
            "\u001b[?25hRequirement already satisfied: six in /usr/local/lib/python3.6/dist-packages (from klein~=17.10->rasa-nlu) (1.15.0)\n",
            "Collecting incremental\n",
            "  Downloading https://files.pythonhosted.org/packages/f5/1d/c98a587dc06e107115cf4a58b49de20b19222c83d75335a192052af4c4b7/incremental-17.5.0-py2.py3-none-any.whl\n",
            "Requirement already satisfied: werkzeug in /usr/local/lib/python3.6/dist-packages (from klein~=17.10->rasa-nlu) (1.0.1)\n",
            "Requirement already satisfied: pyparsing>=2.0.2 in /usr/local/lib/python3.6/dist-packages (from packaging~=18.0->rasa-nlu) (2.4.7)\n",
            "Collecting greenlet>=0.4.14; platform_python_implementation == \"CPython\"\n",
            "\u001b[?25l  Downloading https://files.pythonhosted.org/packages/80/d0/532e160c777b42f6f393f9de8c88abb8af6c892037c55e4d3a8a211324dd/greenlet-0.4.17-cp36-cp36m-manylinux1_x86_64.whl (44kB)\n",
            "\u001b[K     |████████████████████████████████| 51kB 5.9MB/s \n",
            "\u001b[?25hRequirement already satisfied: scipy>=0.13.3 in /usr/local/lib/python3.6/dist-packages (from scikit-learn~=0.20.2->rasa-nlu) (1.4.1)\n",
            "Collecting jmespath<1.0.0,>=0.7.1\n",
            "  Downloading https://files.pythonhosted.org/packages/07/cb/5f001272b6faeb23c1c9e0acc04d48eaaf5c862c17709d20e3469c6e0139/jmespath-0.10.0-py2.py3-none-any.whl\n",
            "Collecting botocore<1.20.0,>=1.19.13\n",
            "\u001b[?25l  Downloading https://files.pythonhosted.org/packages/99/40/b5e681d80dc46bafd0dc2e55266190cc432dfd5b72b9e7e1c5743aa6c362/botocore-1.19.13-py2.py3-none-any.whl (6.7MB)\n",
            "\u001b[K     |████████████████████████████████| 6.7MB 22.5MB/s \n",
            "\u001b[?25hCollecting s3transfer<0.4.0,>=0.3.0\n",
            "\u001b[?25l  Downloading https://files.pythonhosted.org/packages/69/79/e6afb3d8b0b4e96cefbdc690f741d7dd24547ff1f94240c997a26fa908d3/s3transfer-0.3.3-py2.py3-none-any.whl (69kB)\n",
            "\u001b[K     |████████████████████████████████| 71kB 8.1MB/s \n",
            "\u001b[?25hCollecting humanfriendly>=4.7\n",
            "\u001b[?25l  Downloading https://files.pythonhosted.org/packages/8e/2d/2f1b0a780b8c948c06c74c8c80e68ac354da52397ba432a1c5ac1923c3af/humanfriendly-8.2-py2.py3-none-any.whl (86kB)\n",
            "\u001b[K     |████████████████████████████████| 92kB 9.6MB/s \n",
            "\u001b[?25hRequirement already satisfied: kiwisolver>=1.0.1 in /usr/local/lib/python3.6/dist-packages (from matplotlib~=2.2->rasa-nlu) (1.3.1)\n",
            "Requirement already satisfied: python-dateutil>=2.1 in /usr/local/lib/python3.6/dist-packages (from matplotlib~=2.2->rasa-nlu) (2.8.1)\n",
            "Requirement already satisfied: cycler>=0.10 in /usr/local/lib/python3.6/dist-packages (from matplotlib~=2.2->rasa-nlu) (0.10.0)\n",
            "Requirement already satisfied: pytz in /usr/local/lib/python3.6/dist-packages (from matplotlib~=2.2->rasa-nlu) (2018.9)\n",
            "Collecting hyperlink>=17.1.1\n",
            "\u001b[?25l  Downloading https://files.pythonhosted.org/packages/88/a5/74f77547e9b175eb894d4fec5c76b0c8176c045e5bf3ac6a4d4d3feab4bb/hyperlink-20.0.1-py2.py3-none-any.whl (48kB)\n",
            "\u001b[K     |████████████████████████████████| 51kB 6.4MB/s \n",
            "\u001b[?25hCollecting constantly>=15.1\n",
            "  Downloading https://files.pythonhosted.org/packages/b9/65/48c1909d0c0aeae6c10213340ce682db01b48ea900a7d9fce7a7910ff318/constantly-15.1.0-py2.py3-none-any.whl\n",
            "Requirement already satisfied: attrs>=19.2.0 in /usr/local/lib/python3.6/dist-packages (from Twisted>=15.5->klein~=17.10->rasa-nlu) (20.2.0)\n",
            "Collecting PyHamcrest!=1.10.0,>=1.9.0\n",
            "\u001b[?25l  Downloading https://files.pythonhosted.org/packages/40/16/e54cc65891f01cb62893540f44ffd3e8dab0a22443e1b438f1a9f5574bee/PyHamcrest-2.0.2-py3-none-any.whl (52kB)\n",
            "\u001b[K     |████████████████████████████████| 61kB 7.8MB/s \n",
            "\u001b[?25hCollecting zope.interface>=4.4.2\n",
            "\u001b[?25l  Downloading https://files.pythonhosted.org/packages/82/b0/da8afd9b3bd50c7665ecdac062f182982af1173c9081f9af7261091c5588/zope.interface-5.2.0-cp36-cp36m-manylinux2010_x86_64.whl (236kB)\n",
            "\u001b[K     |████████████████████████████████| 245kB 41.2MB/s \n",
            "\u001b[?25hCollecting Automat>=0.3.0\n",
            "  Downloading https://files.pythonhosted.org/packages/dd/83/5f6f3c1a562674d65efc320257bdc0873ec53147835aeef7762fe7585273/Automat-20.2.0-py2.py3-none-any.whl\n",
            "Requirement already satisfied: setuptools in /usr/local/lib/python3.6/dist-packages (from zope.interface>=4.4.2->Twisted>=15.5->klein~=17.10->rasa-nlu) (50.3.2)\n",
            "Building wheels for collected packages: typing, future\n",
            "  Building wheel for typing (setup.py) ... \u001b[?25l\u001b[?25hdone\n",
            "  Created wheel for typing: filename=typing-3.7.4.3-cp36-none-any.whl size=26307 sha256=62812fbb3e241cbf6fc51f6d12043035f1abba6cedc3d356559584ccd498b30a\n",
            "  Stored in directory: /root/.cache/pip/wheels/2d/04/41/8e1836e79581989c22eebac3f4e70aaac9af07b0908da173be\n",
            "  Building wheel for future (setup.py) ... \u001b[?25l\u001b[?25hdone\n",
            "  Created wheel for future: filename=future-0.17.1-cp36-none-any.whl size=488730 sha256=06b155730687a35b75f36678018c0b4d6019d194540f7d569631a4b8f9d96ef5\n",
            "  Stored in directory: /root/.cache/pip/wheels/0c/61/d2/d6b7317325828fbb39ee6ad559dbe4664d0896da4721bf379e\n",
            "Successfully built typing future\n",
            "\u001b[31mERROR: tensorflow-probability 0.11.0 has requirement cloudpickle==1.3, but you'll have cloudpickle 0.6.1 which is incompatible.\u001b[0m\n",
            "\u001b[31mERROR: plotnine 0.6.0 has requirement matplotlib>=3.1.1, but you'll have matplotlib 2.2.5 which is incompatible.\u001b[0m\n",
            "\u001b[31mERROR: mizani 0.6.0 has requirement matplotlib>=3.1.1, but you'll have matplotlib 2.2.5 which is incompatible.\u001b[0m\n",
            "\u001b[31mERROR: gym 0.17.3 has requirement cloudpickle<1.7.0,>=1.2.0, but you'll have cloudpickle 0.6.1 which is incompatible.\u001b[0m\n",
            "\u001b[31mERROR: datascience 0.10.6 has requirement folium==0.2.1, but you'll have folium 0.8.3 which is incompatible.\u001b[0m\n",
            "\u001b[31mERROR: albumentations 0.1.12 has requirement imgaug<0.2.7,>=0.2.5, but you'll have imgaug 0.2.9 which is incompatible.\u001b[0m\n",
            "\u001b[31mERROR: botocore 1.19.13 has requirement urllib3<1.26,>=1.25.4; python_version != \"3.4\", but you'll have urllib3 1.24.3 which is incompatible.\u001b[0m\n",
            "Installing collected packages: hyperlink, constantly, incremental, PyHamcrest, zope.interface, Automat, Twisted, klein, packaging, greenlet, gevent, simplejson, typing, ruamel.yaml, cloudpickle, future, scikit-learn, jmespath, botocore, s3transfer, boto3, humanfriendly, coloredlogs, matplotlib, rasa-nlu\n",
            "  Found existing installation: packaging 20.4\n",
            "    Uninstalling packaging-20.4:\n",
            "      Successfully uninstalled packaging-20.4\n",
            "  Found existing installation: cloudpickle 1.3.0\n",
            "    Uninstalling cloudpickle-1.3.0:\n",
            "      Successfully uninstalled cloudpickle-1.3.0\n",
            "  Found existing installation: future 0.16.0\n",
            "    Uninstalling future-0.16.0:\n",
            "      Successfully uninstalled future-0.16.0\n",
            "  Found existing installation: scikit-learn 0.22.2.post1\n",
            "    Uninstalling scikit-learn-0.22.2.post1:\n",
            "      Successfully uninstalled scikit-learn-0.22.2.post1\n",
            "  Found existing installation: matplotlib 3.2.2\n",
            "    Uninstalling matplotlib-3.2.2:\n",
            "      Successfully uninstalled matplotlib-3.2.2\n",
            "Successfully installed Automat-20.2.0 PyHamcrest-2.0.2 Twisted-20.3.0 boto3-1.16.13 botocore-1.19.13 cloudpickle-0.6.1 coloredlogs-10.0 constantly-15.1.0 future-0.17.1 gevent-1.5.0 greenlet-0.4.17 humanfriendly-8.2 hyperlink-20.0.1 incremental-17.5.0 jmespath-0.10.0 klein-17.10.0 matplotlib-2.2.5 packaging-18.0 rasa-nlu-0.15.1 ruamel.yaml-0.15.100 s3transfer-0.3.3 scikit-learn-0.20.4 simplejson-3.17.2 typing-3.7.4.3 zope.interface-5.2.0\n"
          ],
          "name": "stdout"
        },
        {
          "output_type": "display_data",
          "data": {
            "application/vnd.colab-display-data+json": {
              "pip_warning": {
                "packages": [
                  "matplotlib",
                  "mpl_toolkits",
                  "typing"
                ]
              }
            }
          },
          "metadata": {
            "tags": []
          }
        }
      ]
    },
    {
      "cell_type": "code",
      "metadata": {
        "id": "pdnZNKtnGk21",
        "outputId": "45c886f5-0913-4fd6-937b-baaffdfe89e6",
        "colab": {
          "base_uri": "https://localhost:8080/",
          "height": 1000
        }
      },
      "source": [
        "!pip install rasa[spacy]"
      ],
      "execution_count": 3,
      "outputs": [
        {
          "output_type": "stream",
          "text": [
            "Requirement already satisfied: rasa[spacy] in /usr/local/lib/python3.6/dist-packages (2.0.2)\n",
            "Requirement already satisfied: rasa-sdk<3.0.0,>=2.0.0 in /usr/local/lib/python3.6/dist-packages (from rasa[spacy]) (2.0.0)\n",
            "Requirement already satisfied: tensorflow<2.4,>=2.3 in /usr/local/lib/python3.6/dist-packages (from rasa[spacy]) (2.3.0)\n",
            "Requirement already satisfied: tensorflow-text<2.4,>=2.3; sys_platform != \"win32\" in /usr/local/lib/python3.6/dist-packages (from rasa[spacy]) (2.3.0)\n",
            "Requirement already satisfied: async_generator<1.11,>=1.10 in /usr/local/lib/python3.6/dist-packages (from rasa[spacy]) (1.10)\n",
            "Requirement already satisfied: tqdm<4.51,>=4.31 in /usr/local/lib/python3.6/dist-packages (from rasa[spacy]) (4.41.1)\n",
            "Requirement already satisfied: sanic<21.0.0,>=19.12.2 in /usr/local/lib/python3.6/dist-packages (from rasa[spacy]) (20.9.1)\n",
            "Requirement already satisfied: oauth2client==4.1.3 in /usr/local/lib/python3.6/dist-packages (from rasa[spacy]) (4.1.3)\n",
            "Requirement already satisfied: webexteamssdk<1.7.0,>=1.1.1 in /usr/local/lib/python3.6/dist-packages (from rasa[spacy]) (1.6)\n",
            "Requirement already satisfied: slackclient<3.0.0,>=2.0.0 in /usr/local/lib/python3.6/dist-packages (from rasa[spacy]) (2.9.3)\n",
            "Requirement already satisfied: sentry-sdk<0.20.0,>=0.17.0 in /usr/local/lib/python3.6/dist-packages (from rasa[spacy]) (0.19.2)\n",
            "Requirement already satisfied: tensorflow_hub<0.10,>=0.9 in /usr/local/lib/python3.6/dist-packages (from rasa[spacy]) (0.9.0)\n",
            "Requirement already satisfied: python-dateutil<2.9,>=2.8 in /usr/local/lib/python3.6/dist-packages (from rasa[spacy]) (2.8.1)\n",
            "Requirement already satisfied: questionary<1.6.0,>=1.5.1 in /usr/local/lib/python3.6/dist-packages (from rasa[spacy]) (1.5.2)\n",
            "Requirement already satisfied: ruamel.yaml<0.17.0,>=0.16.5 in /usr/local/lib/python3.6/dist-packages (from rasa[spacy]) (0.16.12)\n",
            "Requirement already satisfied: tensorflow-addons<=0.12,>=0.10 in /usr/local/lib/python3.6/dist-packages (from rasa[spacy]) (0.11.2)\n",
            "Collecting multidict<5.0,>=4.6\n",
            "\u001b[?25l  Downloading https://files.pythonhosted.org/packages/1a/95/f50352b5366e7d579e8b99631680a9e32e1b22adfa1629a8f23b1d22d5e2/multidict-4.7.6-cp36-cp36m-manylinux1_x86_64.whl (148kB)\n",
            "\u001b[K     |████████████████████████████████| 153kB 2.8MB/s \n",
            "\u001b[?25hRequirement already satisfied: tensorflow-estimator<2.4,>=2.3 in /usr/local/lib/python3.6/dist-packages (from rasa[spacy]) (2.3.0)\n",
            "Requirement already satisfied: colorclass<2.3,>=2.2 in /usr/local/lib/python3.6/dist-packages (from rasa[spacy]) (2.2.0)\n",
            "Requirement already satisfied: ujson<4.0,>=1.35 in /usr/local/lib/python3.6/dist-packages (from rasa[spacy]) (1.35)\n",
            "Requirement already satisfied: numpy<2.0,>=1.16 in /usr/local/lib/python3.6/dist-packages (from rasa[spacy]) (1.18.5)\n",
            "Requirement already satisfied: python-socketio<4.7,>=4.4 in /usr/local/lib/python3.6/dist-packages (from rasa[spacy]) (4.6.0)\n",
            "Requirement already satisfied: pika<1.2.0,>=1.1.0 in /usr/local/lib/python3.6/dist-packages (from rasa[spacy]) (1.1.0)\n",
            "Collecting pytz<2021.0,>=2019.1\n",
            "\u001b[?25l  Downloading https://files.pythonhosted.org/packages/12/f8/ff09af6ff61a3efaad5f61ba5facdf17e7722c4393f7d8a66674d2dbd29f/pytz-2020.4-py2.py3-none-any.whl (509kB)\n",
            "\u001b[K     |████████████████████████████████| 512kB 8.7MB/s \n",
            "\u001b[?25hRequirement already satisfied: mattermostwrapper<2.3,>=2.2 in /usr/local/lib/python3.6/dist-packages (from rasa[spacy]) (2.2)\n",
            "Requirement already satisfied: joblib<0.16.0,>=0.15.1 in /usr/local/lib/python3.6/dist-packages (from rasa[spacy]) (0.15.1)\n",
            "Requirement already satisfied: attrs<20.3,>=19.3 in /usr/local/lib/python3.6/dist-packages (from rasa[spacy]) (19.3.0)\n",
            "Requirement already satisfied: sanic-cors<0.11.0,>=0.10.0b1 in /usr/local/lib/python3.6/dist-packages (from rasa[spacy]) (0.10.0.post3)\n",
            "Requirement already satisfied: fbmessenger<6.1.0,>=6.0.0 in /usr/local/lib/python3.6/dist-packages (from rasa[spacy]) (6.0.0)\n",
            "Requirement already satisfied: psycopg2-binary<2.9.0,>=2.8.2 in /usr/local/lib/python3.6/dist-packages (from rasa[spacy]) (2.8.6)\n",
            "Requirement already satisfied: packaging<21.0,>=20.0 in /usr/local/lib/python3.6/dist-packages (from rasa[spacy]) (20.4)\n",
            "Requirement already satisfied: setuptools>=41.0.0 in /usr/local/lib/python3.6/dist-packages (from rasa[spacy]) (50.3.2)\n",
            "Requirement already satisfied: apscheduler<3.7,>=3.6 in /usr/local/lib/python3.6/dist-packages (from rasa[spacy]) (3.6.3)\n",
            "Requirement already satisfied: colorhash<1.1.0,>=1.0.2 in /usr/local/lib/python3.6/dist-packages (from rasa[spacy]) (1.0.2)\n",
            "Requirement already satisfied: python-telegram-bot<13.0,>=11.1 in /usr/local/lib/python3.6/dist-packages (from rasa[spacy]) (12.8)\n",
            "Requirement already satisfied: requests<3.0,>=2.23 in /usr/local/lib/python3.6/dist-packages (from rasa[spacy]) (2.23.0)\n",
            "Requirement already satisfied: sklearn-crfsuite<0.4,>=0.3 in /usr/local/lib/python3.6/dist-packages (from rasa[spacy]) (0.3.6)\n",
            "Requirement already satisfied: twilio<6.46,>=6.26 in /usr/local/lib/python3.6/dist-packages (from rasa[spacy]) (6.45.4)\n",
            "Requirement already satisfied: pymongo[srv,tls]<3.11,>=3.8 in /usr/local/lib/python3.6/dist-packages (from rasa[spacy]) (3.10.1)\n",
            "Requirement already satisfied: kafka-python<3.0,>=1.4 in /usr/local/lib/python3.6/dist-packages (from rasa[spacy]) (1.4.7)\n",
            "Requirement already satisfied: scipy<2.0.0,>=1.4.1 in /usr/local/lib/python3.6/dist-packages (from rasa[spacy]) (1.4.1)\n",
            "Requirement already satisfied: jsonschema<3.3,>=3.2 in /usr/local/lib/python3.6/dist-packages (from rasa[spacy]) (3.2.0)\n",
            "Requirement already satisfied: cloudpickle<1.5,>=1.2 in /usr/local/lib/python3.6/dist-packages (from rasa[spacy]) (1.4.1)\n",
            "Requirement already satisfied: prompt-toolkit<3.0,>=2.0 in /usr/local/lib/python3.6/dist-packages (from rasa[spacy]) (2.0.10)\n",
            "Requirement already satisfied: redis<4.0,>=3.4 in /usr/local/lib/python3.6/dist-packages (from rasa[spacy]) (3.5.3)\n",
            "Requirement already satisfied: absl-py<0.11,>=0.9 in /usr/local/lib/python3.6/dist-packages (from rasa[spacy]) (0.10.0)\n",
            "Requirement already satisfied: networkx<2.6,>=2.4 in /usr/local/lib/python3.6/dist-packages (from rasa[spacy]) (2.5)\n",
            "Requirement already satisfied: coloredlogs<15,>=10 in /usr/local/lib/python3.6/dist-packages (from rasa[spacy]) (10.0)\n",
            "Requirement already satisfied: PyJWT<1.8,>=1.7 in /usr/local/lib/python3.6/dist-packages (from rasa[spacy]) (1.7.1)\n",
            "Requirement already satisfied: pydot<1.5,>=1.4 in /usr/local/lib/python3.6/dist-packages (from rasa[spacy]) (1.4.1)\n",
            "Requirement already satisfied: matplotlib<3.4,>=3.1 in /usr/local/lib/python3.6/dist-packages (from rasa[spacy]) (3.3.2)\n",
            "Requirement already satisfied: scikit-learn<0.24,>=0.22 in /usr/local/lib/python3.6/dist-packages (from rasa[spacy]) (0.23.2)\n",
            "Requirement already satisfied: SQLAlchemy<1.4.0,>=1.3.3 in /usr/local/lib/python3.6/dist-packages (from rasa[spacy]) (1.3.20)\n",
            "Requirement already satisfied: rocketchat_API<1.10.0,>=0.6.31 in /usr/local/lib/python3.6/dist-packages (from rasa[spacy]) (1.9.1)\n",
            "Requirement already satisfied: python-engineio<3.14,>=3.11 in /usr/local/lib/python3.6/dist-packages (from rasa[spacy]) (3.13.2)\n",
            "Requirement already satisfied: sanic-jwt<1.5.0,>=1.3.2 in /usr/local/lib/python3.6/dist-packages (from rasa[spacy]) (1.4.1)\n",
            "Requirement already satisfied: jsonpickle<1.5,>=1.3 in /usr/local/lib/python3.6/dist-packages (from rasa[spacy]) (1.4.1)\n",
            "Requirement already satisfied: terminaltables<3.2.0,>=3.1.0 in /usr/local/lib/python3.6/dist-packages (from rasa[spacy]) (3.1.0)\n",
            "Requirement already satisfied: pykwalify<1.8.0,>=1.7.0 in /usr/local/lib/python3.6/dist-packages (from rasa[spacy]) (1.7.0)\n",
            "Requirement already satisfied: regex<2020.10,>=2020.6 in /usr/local/lib/python3.6/dist-packages (from rasa[spacy]) (2020.9.27)\n",
            "Collecting aiohttp<3.7,>=3.6\n",
            "\u001b[?25l  Downloading https://files.pythonhosted.org/packages/78/a6/93acfa8f8b3573c4445ace2f266de62783231923706a4c3ab705e7d43497/aiohttp-3.6.3-cp36-cp36m-manylinux1_x86_64.whl (1.2MB)\n",
            "\u001b[K     |████████████████████████████████| 1.2MB 12.2MB/s \n",
            "\u001b[?25hRequirement already satisfied: boto3<2.0,>=1.12 in /usr/local/lib/python3.6/dist-packages (from rasa[spacy]) (1.16.13)\n",
            "Requirement already satisfied: tensorflow-probability<0.12,>=0.11 in /usr/local/lib/python3.6/dist-packages (from rasa[spacy]) (0.11.0)\n",
            "Requirement already satisfied: spacy<2.3,>=2.1; extra == \"spacy\" or extra == \"full\" in /usr/local/lib/python3.6/dist-packages (from rasa[spacy]) (2.2.4)\n",
            "Requirement already satisfied: google-pasta>=0.1.8 in /usr/local/lib/python3.6/dist-packages (from tensorflow<2.4,>=2.3->rasa[spacy]) (0.2.0)\n",
            "Requirement already satisfied: h5py<2.11.0,>=2.10.0 in /usr/local/lib/python3.6/dist-packages (from tensorflow<2.4,>=2.3->rasa[spacy]) (2.10.0)\n",
            "Requirement already satisfied: opt-einsum>=2.3.2 in /usr/local/lib/python3.6/dist-packages (from tensorflow<2.4,>=2.3->rasa[spacy]) (3.3.0)\n",
            "Requirement already satisfied: termcolor>=1.1.0 in /usr/local/lib/python3.6/dist-packages (from tensorflow<2.4,>=2.3->rasa[spacy]) (1.1.0)\n",
            "Requirement already satisfied: protobuf>=3.9.2 in /usr/local/lib/python3.6/dist-packages (from tensorflow<2.4,>=2.3->rasa[spacy]) (3.12.4)\n",
            "Requirement already satisfied: wrapt>=1.11.1 in /usr/local/lib/python3.6/dist-packages (from tensorflow<2.4,>=2.3->rasa[spacy]) (1.12.1)\n",
            "Requirement already satisfied: wheel>=0.26 in /usr/local/lib/python3.6/dist-packages (from tensorflow<2.4,>=2.3->rasa[spacy]) (0.35.1)\n",
            "Requirement already satisfied: keras-preprocessing<1.2,>=1.1.1 in /usr/local/lib/python3.6/dist-packages (from tensorflow<2.4,>=2.3->rasa[spacy]) (1.1.2)\n",
            "Requirement already satisfied: six>=1.12.0 in /usr/local/lib/python3.6/dist-packages (from tensorflow<2.4,>=2.3->rasa[spacy]) (1.15.0)\n",
            "Requirement already satisfied: astunparse==1.6.3 in /usr/local/lib/python3.6/dist-packages (from tensorflow<2.4,>=2.3->rasa[spacy]) (1.6.3)\n",
            "Requirement already satisfied: gast==0.3.3 in /usr/local/lib/python3.6/dist-packages (from tensorflow<2.4,>=2.3->rasa[spacy]) (0.3.3)\n",
            "Requirement already satisfied: tensorboard<3,>=2.3.0 in /usr/local/lib/python3.6/dist-packages (from tensorflow<2.4,>=2.3->rasa[spacy]) (2.3.0)\n",
            "Requirement already satisfied: grpcio>=1.8.6 in /usr/local/lib/python3.6/dist-packages (from tensorflow<2.4,>=2.3->rasa[spacy]) (1.33.2)\n",
            "Requirement already satisfied: httpx==0.15.4 in /usr/local/lib/python3.6/dist-packages (from sanic<21.0.0,>=19.12.2->rasa[spacy]) (0.15.4)\n",
            "Requirement already satisfied: websockets<9.0,>=8.1 in /usr/local/lib/python3.6/dist-packages (from sanic<21.0.0,>=19.12.2->rasa[spacy]) (8.1)\n",
            "Requirement already satisfied: uvloop>=0.5.3; sys_platform != \"win32\" and implementation_name == \"cpython\" in /usr/local/lib/python3.6/dist-packages (from sanic<21.0.0,>=19.12.2->rasa[spacy]) (0.14.0)\n",
            "Requirement already satisfied: aiofiles>=0.3.0 in /usr/local/lib/python3.6/dist-packages (from sanic<21.0.0,>=19.12.2->rasa[spacy]) (0.6.0)\n",
            "Requirement already satisfied: httptools>=0.0.10 in /usr/local/lib/python3.6/dist-packages (from sanic<21.0.0,>=19.12.2->rasa[spacy]) (0.1.1)\n",
            "Requirement already satisfied: pyasn1-modules>=0.0.5 in /usr/local/lib/python3.6/dist-packages (from oauth2client==4.1.3->rasa[spacy]) (0.2.8)\n",
            "Requirement already satisfied: httplib2>=0.9.1 in /usr/local/lib/python3.6/dist-packages (from oauth2client==4.1.3->rasa[spacy]) (0.17.4)\n",
            "Requirement already satisfied: pyasn1>=0.1.7 in /usr/local/lib/python3.6/dist-packages (from oauth2client==4.1.3->rasa[spacy]) (0.4.8)\n",
            "Requirement already satisfied: rsa>=3.1.4 in /usr/local/lib/python3.6/dist-packages (from oauth2client==4.1.3->rasa[spacy]) (4.6)\n",
            "Requirement already satisfied: requests-toolbelt in /usr/local/lib/python3.6/dist-packages (from webexteamssdk<1.7.0,>=1.1.1->rasa[spacy]) (0.9.1)\n",
            "Requirement already satisfied: future in /usr/local/lib/python3.6/dist-packages (from webexteamssdk<1.7.0,>=1.1.1->rasa[spacy]) (0.17.1)\n",
            "Requirement already satisfied: urllib3>=1.10.0 in /usr/local/lib/python3.6/dist-packages (from sentry-sdk<0.20.0,>=0.17.0->rasa[spacy]) (1.24.3)\n",
            "Requirement already satisfied: certifi in /usr/local/lib/python3.6/dist-packages (from sentry-sdk<0.20.0,>=0.17.0->rasa[spacy]) (2020.6.20)\n",
            "Requirement already satisfied: ruamel.yaml.clib>=0.1.2; platform_python_implementation == \"CPython\" and python_version < \"3.9\" in /usr/local/lib/python3.6/dist-packages (from ruamel.yaml<0.17.0,>=0.16.5->rasa[spacy]) (0.2.2)\n",
            "Requirement already satisfied: typeguard>=2.7 in /usr/local/lib/python3.6/dist-packages (from tensorflow-addons<=0.12,>=0.10->rasa[spacy]) (2.7.1)\n",
            "Requirement already satisfied: sanic-plugins-framework>=0.9.0 in /usr/local/lib/python3.6/dist-packages (from sanic-cors<0.11.0,>=0.10.0b1->rasa[spacy]) (0.9.4.post1)\n",
            "Requirement already satisfied: pyparsing>=2.0.2 in /usr/local/lib/python3.6/dist-packages (from packaging<21.0,>=20.0->rasa[spacy]) (2.4.7)\n",
            "Requirement already satisfied: tzlocal>=1.2 in /usr/local/lib/python3.6/dist-packages (from apscheduler<3.7,>=3.6->rasa[spacy]) (1.5.1)\n",
            "Requirement already satisfied: cryptography in /usr/local/lib/python3.6/dist-packages (from python-telegram-bot<13.0,>=11.1->rasa[spacy]) (2.9.2)\n",
            "Requirement already satisfied: tornado>=5.1 in /usr/local/lib/python3.6/dist-packages (from python-telegram-bot<13.0,>=11.1->rasa[spacy]) (5.1.1)\n",
            "Requirement already satisfied: decorator>=4.4.0 in /usr/local/lib/python3.6/dist-packages (from python-telegram-bot<13.0,>=11.1->rasa[spacy]) (4.4.2)\n",
            "Requirement already satisfied: chardet<4,>=3.0.2 in /usr/local/lib/python3.6/dist-packages (from requests<3.0,>=2.23->rasa[spacy]) (3.0.4)\n",
            "Requirement already satisfied: idna<3,>=2.5 in /usr/local/lib/python3.6/dist-packages (from requests<3.0,>=2.23->rasa[spacy]) (2.10)\n",
            "Requirement already satisfied: tabulate in /usr/local/lib/python3.6/dist-packages (from sklearn-crfsuite<0.4,>=0.3->rasa[spacy]) (0.8.7)\n",
            "Requirement already satisfied: python-crfsuite>=0.8.3 in /usr/local/lib/python3.6/dist-packages (from sklearn-crfsuite<0.4,>=0.3->rasa[spacy]) (0.9.7)\n",
            "Requirement already satisfied: dnspython<2.0.0,>=1.16.0; extra == \"srv\" in /usr/local/lib/python3.6/dist-packages (from pymongo[srv,tls]<3.11,>=3.8->rasa[spacy]) (1.16.0)\n",
            "Requirement already satisfied: importlib-metadata; python_version < \"3.8\" in /usr/local/lib/python3.6/dist-packages (from jsonschema<3.3,>=3.2->rasa[spacy]) (2.0.0)\n",
            "Requirement already satisfied: pyrsistent>=0.14.0 in /usr/local/lib/python3.6/dist-packages (from jsonschema<3.3,>=3.2->rasa[spacy]) (0.17.3)\n",
            "Requirement already satisfied: wcwidth in /usr/local/lib/python3.6/dist-packages (from prompt-toolkit<3.0,>=2.0->rasa[spacy]) (0.2.5)\n",
            "Requirement already satisfied: humanfriendly>=4.7 in /usr/local/lib/python3.6/dist-packages (from coloredlogs<15,>=10->rasa[spacy]) (8.2)\n",
            "Requirement already satisfied: pillow>=6.2.0 in /usr/local/lib/python3.6/dist-packages (from matplotlib<3.4,>=3.1->rasa[spacy]) (7.0.0)\n",
            "Requirement already satisfied: kiwisolver>=1.0.1 in /usr/local/lib/python3.6/dist-packages (from matplotlib<3.4,>=3.1->rasa[spacy]) (1.3.1)\n",
            "Requirement already satisfied: cycler>=0.10 in /usr/local/lib/python3.6/dist-packages (from matplotlib<3.4,>=3.1->rasa[spacy]) (0.10.0)\n",
            "Requirement already satisfied: threadpoolctl>=2.0.0 in /usr/local/lib/python3.6/dist-packages (from scikit-learn<0.24,>=0.22->rasa[spacy]) (2.1.0)\n",
            "Requirement already satisfied: PyYAML>=3.11 in /usr/local/lib/python3.6/dist-packages (from pykwalify<1.8.0,>=1.7.0->rasa[spacy]) (3.13)\n",
            "Requirement already satisfied: docopt>=0.6.2 in /usr/local/lib/python3.6/dist-packages (from pykwalify<1.8.0,>=1.7.0->rasa[spacy]) (0.6.2)\n",
            "Requirement already satisfied: async-timeout<4.0,>=3.0 in /usr/local/lib/python3.6/dist-packages (from aiohttp<3.7,>=3.6->rasa[spacy]) (3.0.1)\n",
            "Requirement already satisfied: typing-extensions>=3.6.5; python_version < \"3.7\" in /usr/local/lib/python3.6/dist-packages (from aiohttp<3.7,>=3.6->rasa[spacy]) (3.7.4.3)\n",
            "Collecting yarl<1.6.0,>=1.0\n",
            "\u001b[?25l  Downloading https://files.pythonhosted.org/packages/a0/b4/2cbeaf2c3ea53865d9613b315fe24e78c66acedb1df7e4be4e064c87203b/yarl-1.5.1-cp36-cp36m-manylinux1_x86_64.whl (257kB)\n",
            "\u001b[K     |████████████████████████████████| 266kB 18.0MB/s \n",
            "\u001b[?25hRequirement already satisfied: idna-ssl>=1.0; python_version < \"3.7\" in /usr/local/lib/python3.6/dist-packages (from aiohttp<3.7,>=3.6->rasa[spacy]) (1.1.0)\n",
            "Requirement already satisfied: s3transfer<0.4.0,>=0.3.0 in /usr/local/lib/python3.6/dist-packages (from boto3<2.0,>=1.12->rasa[spacy]) (0.3.3)\n",
            "Requirement already satisfied: jmespath<1.0.0,>=0.7.1 in /usr/local/lib/python3.6/dist-packages (from boto3<2.0,>=1.12->rasa[spacy]) (0.10.0)\n",
            "Requirement already satisfied: botocore<1.20.0,>=1.19.13 in /usr/local/lib/python3.6/dist-packages (from boto3<2.0,>=1.12->rasa[spacy]) (1.19.13)\n",
            "Requirement already satisfied: dm-tree in /usr/local/lib/python3.6/dist-packages (from tensorflow-probability<0.12,>=0.11->rasa[spacy]) (0.1.5)\n",
            "Requirement already satisfied: cymem<2.1.0,>=2.0.2 in /usr/local/lib/python3.6/dist-packages (from spacy<2.3,>=2.1; extra == \"spacy\" or extra == \"full\"->rasa[spacy]) (2.0.4)\n",
            "Requirement already satisfied: thinc==7.4.0 in /usr/local/lib/python3.6/dist-packages (from spacy<2.3,>=2.1; extra == \"spacy\" or extra == \"full\"->rasa[spacy]) (7.4.0)\n",
            "Requirement already satisfied: preshed<3.1.0,>=3.0.2 in /usr/local/lib/python3.6/dist-packages (from spacy<2.3,>=2.1; extra == \"spacy\" or extra == \"full\"->rasa[spacy]) (3.0.2)\n",
            "Requirement already satisfied: blis<0.5.0,>=0.4.0 in /usr/local/lib/python3.6/dist-packages (from spacy<2.3,>=2.1; extra == \"spacy\" or extra == \"full\"->rasa[spacy]) (0.4.1)\n",
            "Requirement already satisfied: catalogue<1.1.0,>=0.0.7 in /usr/local/lib/python3.6/dist-packages (from spacy<2.3,>=2.1; extra == \"spacy\" or extra == \"full\"->rasa[spacy]) (1.0.0)\n",
            "Requirement already satisfied: wasabi<1.1.0,>=0.4.0 in /usr/local/lib/python3.6/dist-packages (from spacy<2.3,>=2.1; extra == \"spacy\" or extra == \"full\"->rasa[spacy]) (0.8.0)\n",
            "Requirement already satisfied: murmurhash<1.1.0,>=0.28.0 in /usr/local/lib/python3.6/dist-packages (from spacy<2.3,>=2.1; extra == \"spacy\" or extra == \"full\"->rasa[spacy]) (1.0.3)\n",
            "Requirement already satisfied: plac<1.2.0,>=0.9.6 in /usr/local/lib/python3.6/dist-packages (from spacy<2.3,>=2.1; extra == \"spacy\" or extra == \"full\"->rasa[spacy]) (1.1.3)\n",
            "Requirement already satisfied: srsly<1.1.0,>=1.0.2 in /usr/local/lib/python3.6/dist-packages (from spacy<2.3,>=2.1; extra == \"spacy\" or extra == \"full\"->rasa[spacy]) (1.0.2)\n",
            "Requirement already satisfied: google-auth-oauthlib<0.5,>=0.4.1 in /usr/local/lib/python3.6/dist-packages (from tensorboard<3,>=2.3.0->tensorflow<2.4,>=2.3->rasa[spacy]) (0.4.2)\n",
            "Requirement already satisfied: tensorboard-plugin-wit>=1.6.0 in /usr/local/lib/python3.6/dist-packages (from tensorboard<3,>=2.3.0->tensorflow<2.4,>=2.3->rasa[spacy]) (1.7.0)\n",
            "Requirement already satisfied: markdown>=2.6.8 in /usr/local/lib/python3.6/dist-packages (from tensorboard<3,>=2.3.0->tensorflow<2.4,>=2.3->rasa[spacy]) (3.3.3)\n",
            "Requirement already satisfied: google-auth<2,>=1.6.3 in /usr/local/lib/python3.6/dist-packages (from tensorboard<3,>=2.3.0->tensorflow<2.4,>=2.3->rasa[spacy]) (1.17.2)\n",
            "Requirement already satisfied: werkzeug>=0.11.15 in /usr/local/lib/python3.6/dist-packages (from tensorboard<3,>=2.3.0->tensorflow<2.4,>=2.3->rasa[spacy]) (1.0.1)\n",
            "Requirement already satisfied: httpcore==0.11.* in /usr/local/lib/python3.6/dist-packages (from httpx==0.15.4->sanic<21.0.0,>=19.12.2->rasa[spacy]) (0.11.1)\n",
            "Requirement already satisfied: rfc3986[idna2008]<2,>=1.3 in /usr/local/lib/python3.6/dist-packages (from httpx==0.15.4->sanic<21.0.0,>=19.12.2->rasa[spacy]) (1.4.0)\n",
            "Requirement already satisfied: sniffio in /usr/local/lib/python3.6/dist-packages (from httpx==0.15.4->sanic<21.0.0,>=19.12.2->rasa[spacy]) (1.2.0)\n",
            "Requirement already satisfied: cffi!=1.11.3,>=1.8 in /usr/local/lib/python3.6/dist-packages (from cryptography->python-telegram-bot<13.0,>=11.1->rasa[spacy]) (1.14.3)\n",
            "Requirement already satisfied: zipp>=0.5 in /usr/local/lib/python3.6/dist-packages (from importlib-metadata; python_version < \"3.8\"->jsonschema<3.3,>=3.2->rasa[spacy]) (3.4.0)\n",
            "Requirement already satisfied: requests-oauthlib>=0.7.0 in /usr/local/lib/python3.6/dist-packages (from google-auth-oauthlib<0.5,>=0.4.1->tensorboard<3,>=2.3.0->tensorflow<2.4,>=2.3->rasa[spacy]) (1.3.0)\n",
            "Requirement already satisfied: cachetools<5.0,>=2.0.0 in /usr/local/lib/python3.6/dist-packages (from google-auth<2,>=1.6.3->tensorboard<3,>=2.3.0->tensorflow<2.4,>=2.3->rasa[spacy]) (4.1.1)\n",
            "Requirement already satisfied: h11<0.10,>=0.8 in /usr/local/lib/python3.6/dist-packages (from httpcore==0.11.*->httpx==0.15.4->sanic<21.0.0,>=19.12.2->rasa[spacy]) (0.9.0)\n",
            "Requirement already satisfied: contextvars>=2.1; python_version < \"3.7\" in /usr/local/lib/python3.6/dist-packages (from sniffio->httpx==0.15.4->sanic<21.0.0,>=19.12.2->rasa[spacy]) (2.4)\n",
            "Requirement already satisfied: pycparser in /usr/local/lib/python3.6/dist-packages (from cffi!=1.11.3,>=1.8->cryptography->python-telegram-bot<13.0,>=11.1->rasa[spacy]) (2.20)\n",
            "Requirement already satisfied: oauthlib>=3.0.0 in /usr/local/lib/python3.6/dist-packages (from requests-oauthlib>=0.7.0->google-auth-oauthlib<0.5,>=0.4.1->tensorboard<3,>=2.3.0->tensorflow<2.4,>=2.3->rasa[spacy]) (3.1.0)\n",
            "Requirement already satisfied: immutables>=0.9 in /usr/local/lib/python3.6/dist-packages (from contextvars>=2.1; python_version < \"3.7\"->sniffio->httpx==0.15.4->sanic<21.0.0,>=19.12.2->rasa[spacy]) (0.14)\n",
            "\u001b[31mERROR: sanic 20.9.1 has requirement multidict==5.0.0, but you'll have multidict 4.7.6 which is incompatible.\u001b[0m\n",
            "Installing collected packages: multidict, pytz, yarl, aiohttp\n",
            "  Found existing installation: multidict 5.0.0\n",
            "    Uninstalling multidict-5.0.0:\n",
            "      Successfully uninstalled multidict-5.0.0\n",
            "  Found existing installation: pytz 2018.9\n",
            "    Uninstalling pytz-2018.9:\n",
            "      Successfully uninstalled pytz-2018.9\n",
            "  Found existing installation: yarl 1.6.2\n",
            "    Uninstalling yarl-1.6.2:\n",
            "      Successfully uninstalled yarl-1.6.2\n",
            "  Found existing installation: aiohttp 3.7.2\n",
            "    Uninstalling aiohttp-3.7.2:\n",
            "      Successfully uninstalled aiohttp-3.7.2\n",
            "Successfully installed aiohttp-3.6.3 multidict-4.7.6 pytz-2020.4 yarl-1.5.1\n"
          ],
          "name": "stdout"
        },
        {
          "output_type": "display_data",
          "data": {
            "application/vnd.colab-display-data+json": {
              "pip_warning": {
                "packages": [
                  "pytz"
                ]
              }
            }
          },
          "metadata": {
            "tags": []
          }
        }
      ]
    },
    {
      "cell_type": "code",
      "metadata": {
        "id": "jmQw0ed0jMxC",
        "outputId": "7bb82aba-c021-43ee-9516-b08b3416709c",
        "colab": {
          "base_uri": "https://localhost:8080/"
        }
      },
      "source": [
        "!python -m spacy download en_core_web_md"
      ],
      "execution_count": 4,
      "outputs": [
        {
          "output_type": "stream",
          "text": [
            "Collecting en_core_web_md==2.2.5\n",
            "\u001b[?25l  Downloading https://github.com/explosion/spacy-models/releases/download/en_core_web_md-2.2.5/en_core_web_md-2.2.5.tar.gz (96.4MB)\n",
            "\u001b[K     |████████████████████████████████| 96.4MB 1.2MB/s \n",
            "\u001b[?25hRequirement already satisfied: spacy>=2.2.2 in /usr/local/lib/python3.6/dist-packages (from en_core_web_md==2.2.5) (2.2.4)\n",
            "Requirement already satisfied: tqdm<5.0.0,>=4.38.0 in /usr/local/lib/python3.6/dist-packages (from spacy>=2.2.2->en_core_web_md==2.2.5) (4.41.1)\n",
            "Requirement already satisfied: preshed<3.1.0,>=3.0.2 in /usr/local/lib/python3.6/dist-packages (from spacy>=2.2.2->en_core_web_md==2.2.5) (3.0.2)\n",
            "Requirement already satisfied: srsly<1.1.0,>=1.0.2 in /usr/local/lib/python3.6/dist-packages (from spacy>=2.2.2->en_core_web_md==2.2.5) (1.0.2)\n",
            "Requirement already satisfied: numpy>=1.15.0 in /usr/local/lib/python3.6/dist-packages (from spacy>=2.2.2->en_core_web_md==2.2.5) (1.18.5)\n",
            "Requirement already satisfied: thinc==7.4.0 in /usr/local/lib/python3.6/dist-packages (from spacy>=2.2.2->en_core_web_md==2.2.5) (7.4.0)\n",
            "Requirement already satisfied: cymem<2.1.0,>=2.0.2 in /usr/local/lib/python3.6/dist-packages (from spacy>=2.2.2->en_core_web_md==2.2.5) (2.0.4)\n",
            "Requirement already satisfied: wasabi<1.1.0,>=0.4.0 in /usr/local/lib/python3.6/dist-packages (from spacy>=2.2.2->en_core_web_md==2.2.5) (0.8.0)\n",
            "Requirement already satisfied: murmurhash<1.1.0,>=0.28.0 in /usr/local/lib/python3.6/dist-packages (from spacy>=2.2.2->en_core_web_md==2.2.5) (1.0.3)\n",
            "Requirement already satisfied: plac<1.2.0,>=0.9.6 in /usr/local/lib/python3.6/dist-packages (from spacy>=2.2.2->en_core_web_md==2.2.5) (1.1.3)\n",
            "Requirement already satisfied: requests<3.0.0,>=2.13.0 in /usr/local/lib/python3.6/dist-packages (from spacy>=2.2.2->en_core_web_md==2.2.5) (2.23.0)\n",
            "Requirement already satisfied: setuptools in /usr/local/lib/python3.6/dist-packages (from spacy>=2.2.2->en_core_web_md==2.2.5) (50.3.2)\n",
            "Requirement already satisfied: catalogue<1.1.0,>=0.0.7 in /usr/local/lib/python3.6/dist-packages (from spacy>=2.2.2->en_core_web_md==2.2.5) (1.0.0)\n",
            "Requirement already satisfied: blis<0.5.0,>=0.4.0 in /usr/local/lib/python3.6/dist-packages (from spacy>=2.2.2->en_core_web_md==2.2.5) (0.4.1)\n",
            "Requirement already satisfied: certifi>=2017.4.17 in /usr/local/lib/python3.6/dist-packages (from requests<3.0.0,>=2.13.0->spacy>=2.2.2->en_core_web_md==2.2.5) (2020.6.20)\n",
            "Requirement already satisfied: idna<3,>=2.5 in /usr/local/lib/python3.6/dist-packages (from requests<3.0.0,>=2.13.0->spacy>=2.2.2->en_core_web_md==2.2.5) (2.10)\n",
            "Requirement already satisfied: urllib3!=1.25.0,!=1.25.1,<1.26,>=1.21.1 in /usr/local/lib/python3.6/dist-packages (from requests<3.0.0,>=2.13.0->spacy>=2.2.2->en_core_web_md==2.2.5) (1.24.3)\n",
            "Requirement already satisfied: chardet<4,>=3.0.2 in /usr/local/lib/python3.6/dist-packages (from requests<3.0.0,>=2.13.0->spacy>=2.2.2->en_core_web_md==2.2.5) (3.0.4)\n",
            "Requirement already satisfied: importlib-metadata>=0.20; python_version < \"3.8\" in /usr/local/lib/python3.6/dist-packages (from catalogue<1.1.0,>=0.0.7->spacy>=2.2.2->en_core_web_md==2.2.5) (2.0.0)\n",
            "Requirement already satisfied: zipp>=0.5 in /usr/local/lib/python3.6/dist-packages (from importlib-metadata>=0.20; python_version < \"3.8\"->catalogue<1.1.0,>=0.0.7->spacy>=2.2.2->en_core_web_md==2.2.5) (3.4.0)\n",
            "Building wheels for collected packages: en-core-web-md\n",
            "  Building wheel for en-core-web-md (setup.py) ... \u001b[?25l\u001b[?25hdone\n",
            "  Created wheel for en-core-web-md: filename=en_core_web_md-2.2.5-cp36-none-any.whl size=98051305 sha256=5993b5ca3465fca3991e82013c0d9e19ae87b0044defb25841a065d15e8494cc\n",
            "  Stored in directory: /tmp/pip-ephem-wheel-cache-lf4w2wd6/wheels/df/94/ad/f5cf59224cea6b5686ac4fd1ad19c8a07bc026e13c36502d81\n",
            "Successfully built en-core-web-md\n",
            "Installing collected packages: en-core-web-md\n",
            "Successfully installed en-core-web-md-2.2.5\n",
            "\u001b[38;5;2m✔ Download and installation successful\u001b[0m\n",
            "You can now load the model via spacy.load('en_core_web_md')\n"
          ],
          "name": "stdout"
        }
      ]
    },
    {
      "cell_type": "code",
      "metadata": {
        "id": "qvU5rsVfHZC1",
        "outputId": "379c71aa-2db8-467d-84b1-1103ba2f4c76",
        "colab": {
          "base_uri": "https://localhost:8080/"
        }
      },
      "source": [
        "!python -m spacy link en_core_web_md en --force"
      ],
      "execution_count": 5,
      "outputs": [
        {
          "output_type": "stream",
          "text": [
            "\u001b[38;5;2m✔ Linking successful\u001b[0m\n",
            "/usr/local/lib/python3.6/dist-packages/en_core_web_md -->\n",
            "/usr/local/lib/python3.6/dist-packages/spacy/data/en\n",
            "You can now load the model via spacy.load('en')\n"
          ],
          "name": "stdout"
        }
      ]
    },
    {
      "cell_type": "code",
      "metadata": {
        "id": "k4C5HvTpjs_S",
        "outputId": "5493daad-319b-47c9-e282-ac2d601ea678",
        "colab": {
          "base_uri": "https://localhost:8080/"
        }
      },
      "source": [
        "!rasa init --no-prompt"
      ],
      "execution_count": 6,
      "outputs": [
        {
          "output_type": "stream",
          "text": [
            "\u001b(0lqqqqqqqqqqqqqqqqqqqqqqqqqqqqqqqqqqqqqqqqqqqqqqqqqqqqqqqqqqqqqqqqqqqqqqqqqqqqqqqqk\u001b(B\n",
            "\u001b(0x\u001b(B Rasa Open Source reports anonymous usage telemetry to help improve the product \u001b(0x\u001b(B\n",
            "\u001b(0x\u001b(B for all its users.                                                             \u001b(0x\u001b(B\n",
            "\u001b(0x\u001b(B                                                                                \u001b(0x\u001b(B\n",
            "\u001b(0x\u001b(B If you'd like to opt-out, you can use `rasa telemetry disable`.                \u001b(0x\u001b(B\n",
            "\u001b(0x\u001b(B To learn more, check out https://rasa.com/docs/rasa/telemetry/telemetry.       \u001b(0x\u001b(B\n",
            "\u001b(0mqqqqqqqqqqqqqqqqqqqqqqqqqqqqqqqqqqqqqqqqqqqqqqqqqqqqqqqqqqqqqqqqqqqqqqqqqqqqqqqqj\u001b(B\n",
            "2020-11-09 14:54:03.703064: E tensorflow/stream_executor/cuda/cuda_driver.cc:314] failed call to cuInit: CUDA_ERROR_NO_DEVICE: no CUDA-capable device is detected\n",
            "\u001b[92mWelcome to Rasa! 🤖\n",
            "\u001b[0m\n",
            "To get started quickly, an initial project will be created.\n",
            "If you need some help, check out the documentation at https://rasa.com/docs/rasa.\n",
            "\n",
            "Created project directory at '/content'.\n",
            "\u001b[92mFinished creating project structure.\u001b[0m\n",
            "\u001b[92mTraining an initial model...\u001b[0m\n",
            "\u001b[94mThe configuration for policies and pipeline was chosen automatically. It was written into the config file at './config.yml'.\u001b[0m\n",
            "\u001b[94mTraining NLU model...\u001b[0m\n",
            "2020-11-09 14:54:06 \u001b[1;30mINFO    \u001b[0m \u001b[34mrasa.shared.nlu.training_data.training_data\u001b[0m  - Training data stats:\n",
            "2020-11-09 14:54:06 \u001b[1;30mINFO    \u001b[0m \u001b[34mrasa.shared.nlu.training_data.training_data\u001b[0m  - Number of intent examples: 69 (7 distinct intents)\n",
            "\n",
            "2020-11-09 14:54:06 \u001b[1;30mINFO    \u001b[0m \u001b[34mrasa.shared.nlu.training_data.training_data\u001b[0m  -   Found intents: 'goodbye', 'affirm', 'greet', 'bot_challenge', 'mood_great', 'deny', 'mood_unhappy'\n",
            "2020-11-09 14:54:06 \u001b[1;30mINFO    \u001b[0m \u001b[34mrasa.shared.nlu.training_data.training_data\u001b[0m  - Number of response examples: 0 (0 distinct responses)\n",
            "2020-11-09 14:54:06 \u001b[1;30mINFO    \u001b[0m \u001b[34mrasa.shared.nlu.training_data.training_data\u001b[0m  - Number of entity examples: 0 (0 distinct entities)\n",
            "2020-11-09 14:54:06 \u001b[1;30mINFO    \u001b[0m \u001b[34mrasa.nlu.model\u001b[0m  - Starting to train component WhitespaceTokenizer\n",
            "2020-11-09 14:54:06 \u001b[1;30mINFO    \u001b[0m \u001b[34mrasa.nlu.model\u001b[0m  - Finished training component.\n",
            "2020-11-09 14:54:06 \u001b[1;30mINFO    \u001b[0m \u001b[34mrasa.nlu.model\u001b[0m  - Starting to train component RegexFeaturizer\n",
            "2020-11-09 14:54:06 \u001b[1;30mINFO    \u001b[0m \u001b[34mrasa.nlu.model\u001b[0m  - Finished training component.\n",
            "2020-11-09 14:54:06 \u001b[1;30mINFO    \u001b[0m \u001b[34mrasa.nlu.model\u001b[0m  - Starting to train component LexicalSyntacticFeaturizer\n",
            "2020-11-09 14:54:06 \u001b[1;30mINFO    \u001b[0m \u001b[34mrasa.nlu.model\u001b[0m  - Finished training component.\n",
            "2020-11-09 14:54:06 \u001b[1;30mINFO    \u001b[0m \u001b[34mrasa.nlu.model\u001b[0m  - Starting to train component CountVectorsFeaturizer\n",
            "2020-11-09 14:54:06 \u001b[1;30mINFO    \u001b[0m \u001b[34mrasa.nlu.model\u001b[0m  - Finished training component.\n",
            "2020-11-09 14:54:06 \u001b[1;30mINFO    \u001b[0m \u001b[34mrasa.nlu.model\u001b[0m  - Starting to train component CountVectorsFeaturizer\n",
            "2020-11-09 14:54:06 \u001b[1;30mINFO    \u001b[0m \u001b[34mrasa.nlu.model\u001b[0m  - Finished training component.\n",
            "2020-11-09 14:54:06 \u001b[1;30mINFO    \u001b[0m \u001b[34mrasa.nlu.model\u001b[0m  - Starting to train component DIETClassifier\n",
            "Epochs: 100% 100/100 [00:23<00:00,  4.27it/s, t_loss=1.496, i_acc=0.942]\n",
            "2020-11-09 14:54:40 \u001b[1;30mINFO    \u001b[0m \u001b[34mrasa.utils.tensorflow.models\u001b[0m  - Finished training.\n",
            "2020-11-09 14:54:40 \u001b[1;30mINFO    \u001b[0m \u001b[34mrasa.nlu.model\u001b[0m  - Finished training component.\n",
            "2020-11-09 14:54:40 \u001b[1;30mINFO    \u001b[0m \u001b[34mrasa.nlu.model\u001b[0m  - Starting to train component EntitySynonymMapper\n",
            "2020-11-09 14:54:40 \u001b[1;30mINFO    \u001b[0m \u001b[34mrasa.nlu.model\u001b[0m  - Finished training component.\n",
            "2020-11-09 14:54:40 \u001b[1;30mINFO    \u001b[0m \u001b[34mrasa.nlu.model\u001b[0m  - Starting to train component ResponseSelector\n",
            "2020-11-09 14:54:40 \u001b[1;30mINFO    \u001b[0m \u001b[34mrasa.nlu.selectors.response_selector\u001b[0m  - Retrieval intent parameter was left to its default value. This response selector will be trained on training examples combining all retrieval intents.\n",
            "2020-11-09 14:54:40 \u001b[1;30mINFO    \u001b[0m \u001b[34mrasa.nlu.model\u001b[0m  - Finished training component.\n",
            "2020-11-09 14:54:40 \u001b[1;30mINFO    \u001b[0m \u001b[34mrasa.nlu.model\u001b[0m  - Starting to train component FallbackClassifier\n",
            "2020-11-09 14:54:40 \u001b[1;30mINFO    \u001b[0m \u001b[34mrasa.nlu.model\u001b[0m  - Finished training component.\n",
            "2020-11-09 14:54:40 \u001b[1;30mINFO    \u001b[0m \u001b[34mrasa.nlu.model\u001b[0m  - Successfully saved model into '/tmp/tmpe_3seu5s/nlu'\n",
            "\u001b[94mNLU model training completed.\u001b[0m\n",
            "\u001b[94mTraining Core model...\u001b[0m\n",
            "Processed story blocks: 100% 3/3 [00:00<00:00, 2507.56it/s, # trackers=1]\n",
            "Processed story blocks: 100% 3/3 [00:00<00:00, 1336.62it/s, # trackers=3]\n",
            "Processed story blocks: 100% 3/3 [00:00<00:00, 347.17it/s, # trackers=12]\n",
            "Processed story blocks: 100% 3/3 [00:00<00:00, 90.71it/s, # trackers=39]\n",
            "Processed rules: 100% 2/2 [00:00<00:00, 3473.54it/s, # trackers=1]\n",
            "Processed trackers: 100% 3/3 [00:00<00:00, 1328.57it/s, # actions=12]\n",
            "Processed actions: 12it [00:00, 8402.61it/s, # examples=12]\n",
            "Processed trackers: 100% 120/120 [00:00<00:00, 129.12it/s, # actions=30]\n",
            "Epochs: 100% 100/100 [00:06<00:00, 14.63it/s, t_loss=10.810, loss=10.642, acc=0.967]\n",
            "2020-11-09 14:54:56 \u001b[1;30mINFO    \u001b[0m \u001b[34mrasa.utils.tensorflow.models\u001b[0m  - Finished training.\n",
            "Processed trackers: 100% 2/2 [00:00<00:00, 3044.87it/s, # actions=5]\n",
            "Processed actions: 5it [00:00, 11683.30it/s, # examples=4]\n",
            "Processed trackers: 100% 3/3 [00:00<00:00, 1646.76it/s, # actions=12]\n",
            "Processed trackers: 100% 2/2 [00:00<00:00, 2067.18it/s]\n",
            "Processed trackers: 100% 5/5 [00:00<00:00, 964.70it/s]\n",
            "2020-11-09 14:54:57 \u001b[1;30mINFO    \u001b[0m \u001b[34mrasa.core.agent\u001b[0m  - Persisted model to '/tmp/tmpe_3seu5s/core'\n",
            "\u001b[94mCore model training completed.\u001b[0m\n",
            "\u001b[92mYour Rasa model is trained and saved at '/content/models/20201109-145404.tar.gz'.\u001b[0m\n",
            "If you want to speak to the assistant, run 'rasa shell' at any time inside the project directory.\n"
          ],
          "name": "stdout"
        }
      ]
    },
    {
      "cell_type": "code",
      "metadata": {
        "id": "3YNQ4XTGjxME",
        "outputId": "e37fb948-e013-4f9c-d785-e4fbacea6af4",
        "colab": {
          "base_uri": "https://localhost:8080/"
        }
      },
      "source": [
        "!rasa train"
      ],
      "execution_count": 8,
      "outputs": [
        {
          "output_type": "stream",
          "text": [
            "2020-11-09 15:07:24.219267: E tensorflow/stream_executor/cuda/cuda_driver.cc:314] failed call to cuInit: CUDA_ERROR_NO_DEVICE: no CUDA-capable device is detected\n",
            "\u001b[94mThe configuration for policies and pipeline was chosen automatically. It was written into the config file at 'config.yml'.\u001b[0m\n",
            "2020-11-09 15:07:24 \u001b[1;30mINFO    \u001b[0m \u001b[34mrasa.model\u001b[0m  - Data (domain) for Core model section changed.\n",
            "2020-11-09 15:07:24 \u001b[1;30mINFO    \u001b[0m \u001b[34mrasa.model\u001b[0m  - Data (messages) for NLU model section changed.\n",
            "2020-11-09 15:07:24 \u001b[1;30mINFO    \u001b[0m \u001b[34mrasa.model\u001b[0m  - Data (nlg) for NLG templates section changed.\n",
            "\u001b[94mTraining NLU model...\u001b[0m\n",
            "2020-11-09 15:07:26 \u001b[1;30mINFO    \u001b[0m \u001b[34mrasa.shared.nlu.training_data.training_data\u001b[0m  - Training data stats:\n",
            "2020-11-09 15:07:26 \u001b[1;30mINFO    \u001b[0m \u001b[34mrasa.shared.nlu.training_data.training_data\u001b[0m  - Number of intent examples: 83 (8 distinct intents)\n",
            "\n",
            "2020-11-09 15:07:26 \u001b[1;30mINFO    \u001b[0m \u001b[34mrasa.shared.nlu.training_data.training_data\u001b[0m  -   Found intents: 'greet', 'mood_great', 'deny', 'Book_room', 'bot_challenge', 'mood_unhappy', 'affirm', 'goodbye'\n",
            "2020-11-09 15:07:26 \u001b[1;30mINFO    \u001b[0m \u001b[34mrasa.shared.nlu.training_data.training_data\u001b[0m  - Number of response examples: 0 (0 distinct responses)\n",
            "2020-11-09 15:07:26 \u001b[1;30mINFO    \u001b[0m \u001b[34mrasa.shared.nlu.training_data.training_data\u001b[0m  - Number of entity examples: 0 (0 distinct entities)\n",
            "2020-11-09 15:07:26 \u001b[1;30mINFO    \u001b[0m \u001b[34mrasa.nlu.model\u001b[0m  - Starting to train component WhitespaceTokenizer\n",
            "2020-11-09 15:07:26 \u001b[1;30mINFO    \u001b[0m \u001b[34mrasa.nlu.model\u001b[0m  - Finished training component.\n",
            "2020-11-09 15:07:26 \u001b[1;30mINFO    \u001b[0m \u001b[34mrasa.nlu.model\u001b[0m  - Starting to train component RegexFeaturizer\n",
            "2020-11-09 15:07:26 \u001b[1;30mINFO    \u001b[0m \u001b[34mrasa.nlu.model\u001b[0m  - Finished training component.\n",
            "2020-11-09 15:07:26 \u001b[1;30mINFO    \u001b[0m \u001b[34mrasa.nlu.model\u001b[0m  - Starting to train component LexicalSyntacticFeaturizer\n",
            "2020-11-09 15:07:26 \u001b[1;30mINFO    \u001b[0m \u001b[34mrasa.nlu.model\u001b[0m  - Finished training component.\n",
            "2020-11-09 15:07:26 \u001b[1;30mINFO    \u001b[0m \u001b[34mrasa.nlu.model\u001b[0m  - Starting to train component CountVectorsFeaturizer\n",
            "2020-11-09 15:07:26 \u001b[1;30mINFO    \u001b[0m \u001b[34mrasa.nlu.model\u001b[0m  - Finished training component.\n",
            "2020-11-09 15:07:26 \u001b[1;30mINFO    \u001b[0m \u001b[34mrasa.nlu.model\u001b[0m  - Starting to train component CountVectorsFeaturizer\n",
            "2020-11-09 15:07:26 \u001b[1;30mINFO    \u001b[0m \u001b[34mrasa.nlu.model\u001b[0m  - Finished training component.\n",
            "2020-11-09 15:07:26 \u001b[1;30mINFO    \u001b[0m \u001b[34mrasa.nlu.model\u001b[0m  - Starting to train component DIETClassifier\n",
            "Epochs: 100% 100/100 [00:27<00:00,  3.62it/s, t_loss=1.528, i_acc=0.952]\n",
            "2020-11-09 15:08:03 \u001b[1;30mINFO    \u001b[0m \u001b[34mrasa.utils.tensorflow.models\u001b[0m  - Finished training.\n",
            "2020-11-09 15:08:03 \u001b[1;30mINFO    \u001b[0m \u001b[34mrasa.nlu.model\u001b[0m  - Finished training component.\n",
            "2020-11-09 15:08:03 \u001b[1;30mINFO    \u001b[0m \u001b[34mrasa.nlu.model\u001b[0m  - Starting to train component EntitySynonymMapper\n",
            "2020-11-09 15:08:03 \u001b[1;30mINFO    \u001b[0m \u001b[34mrasa.nlu.model\u001b[0m  - Finished training component.\n",
            "2020-11-09 15:08:03 \u001b[1;30mINFO    \u001b[0m \u001b[34mrasa.nlu.model\u001b[0m  - Starting to train component ResponseSelector\n",
            "2020-11-09 15:08:03 \u001b[1;30mINFO    \u001b[0m \u001b[34mrasa.nlu.selectors.response_selector\u001b[0m  - Retrieval intent parameter was left to its default value. This response selector will be trained on training examples combining all retrieval intents.\n",
            "2020-11-09 15:08:03 \u001b[1;30mINFO    \u001b[0m \u001b[34mrasa.nlu.model\u001b[0m  - Finished training component.\n",
            "2020-11-09 15:08:03 \u001b[1;30mINFO    \u001b[0m \u001b[34mrasa.nlu.model\u001b[0m  - Starting to train component FallbackClassifier\n",
            "2020-11-09 15:08:03 \u001b[1;30mINFO    \u001b[0m \u001b[34mrasa.nlu.model\u001b[0m  - Finished training component.\n",
            "2020-11-09 15:08:04 \u001b[1;30mINFO    \u001b[0m \u001b[34mrasa.nlu.model\u001b[0m  - Successfully saved model into '/tmp/tmpp0fc7ipq/nlu'\n",
            "\u001b[94mNLU model training completed.\u001b[0m\n",
            "\u001b[94mTraining Core model...\u001b[0m\n",
            "Processed story blocks: 100% 3/3 [00:00<00:00, 2494.63it/s, # trackers=1]\n",
            "Processed story blocks: 100% 3/3 [00:00<00:00, 1221.17it/s, # trackers=3]\n",
            "Processed story blocks: 100% 3/3 [00:00<00:00, 310.68it/s, # trackers=12]\n",
            "Processed story blocks: 100% 3/3 [00:00<00:00, 89.88it/s, # trackers=39]\n",
            "Processed rules: 100% 3/3 [00:00<00:00, 3933.39it/s, # trackers=1]\n",
            "Processed trackers: 100% 3/3 [00:00<00:00, 1670.82it/s, # actions=12]\n",
            "Processed actions: 12it [00:00, 8259.21it/s, # examples=12]\n",
            "Processed trackers: 100% 120/120 [00:00<00:00, 133.86it/s, # actions=30]\n",
            "Epochs: 100% 100/100 [00:07<00:00, 13.78it/s, t_loss=3.758, loss=3.588, acc=0.967]\n",
            "2020-11-09 15:08:21 \u001b[1;30mINFO    \u001b[0m \u001b[34mrasa.utils.tensorflow.models\u001b[0m  - Finished training.\n",
            "Processed trackers: 100% 3/3 [00:00<00:00, 2844.24it/s, # actions=7]\n",
            "Processed actions: 7it [00:00, 10595.50it/s, # examples=6]\n",
            "Processed trackers: 100% 3/3 [00:00<00:00, 1237.50it/s, # actions=12]\n",
            "Processed trackers: 100% 3/3 [00:00<00:00, 1992.54it/s]\n",
            "Processed trackers: 100% 6/6 [00:00<00:00, 904.04it/s]\n",
            "2020-11-09 15:08:21 \u001b[1;30mINFO    \u001b[0m \u001b[34mrasa.core.agent\u001b[0m  - Persisted model to '/tmp/tmpp0fc7ipq/core'\n",
            "\u001b[94mCore model training completed.\u001b[0m\n",
            "\u001b[92mYour Rasa model is trained and saved at '/content/models/20201109-150822.tar.gz'.\u001b[0m\n"
          ],
          "name": "stdout"
        }
      ]
    },
    {
      "cell_type": "code",
      "metadata": {
        "id": "Y9zkBlsogR3J",
        "outputId": "c1318e2a-3d8e-4a2b-c81f-c8822ef7bf04",
        "colab": {
          "base_uri": "https://localhost:8080/"
        }
      },
      "source": [
        "!rasa shell"
      ],
      "execution_count": null,
      "outputs": [
        {
          "output_type": "stream",
          "text": [
            "2020-11-09 15:10:15.277444: E tensorflow/stream_executor/cuda/cuda_driver.cc:314] failed call to cuInit: CUDA_ERROR_NO_DEVICE: no CUDA-capable device is detected\n",
            "2020-11-09 15:10:16 \u001b[1;30mINFO    \u001b[0m \u001b[34mroot\u001b[0m  - Connecting to channel 'cmdline' which was specified by the '--connector' argument. Any other channels will be ignored. To connect to all given channels, omit the '--connector' argument.\n",
            "2020-11-09 15:10:16 \u001b[1;30mINFO    \u001b[0m \u001b[34mroot\u001b[0m  - Starting Rasa server on http://localhost:5005\n",
            "2020-11-09 15:10:24 \u001b[1;30mINFO    \u001b[0m \u001b[34mroot\u001b[0m  - Rasa server is up and running.\n",
            "\u001b[92mBot loaded. Type a message and press enter (use '/stop' to exit): \u001b[0m\n",
            "\u001b[15C\u001b[?7h\u001b[0m\u001b[?12l\u001b[?25h\u001b[15D\u001b[J\u001b[0m\u001b[?7h\u001b[?2004l\u001b[?1lWARNING: your terminal doesn't support cursor position requests (CPR).\n",
            "\u001b[0m\n",
            "\u001b[J\u001b[?7h\u001b[0m\u001b[?12l\u001b[?25h\u001b[?2004l\u001b[94mYes sure, How many rooms you want to book?\u001b[0m\n",
            "\u001b[15C\u001b[?7h\u001b[0m\u001b[?12l\u001b[?25h\u001b[15D\u001b[J\u001b[0m\u001b[?7h\u001b[?2004l\u001b[?1lWARNING: your terminal doesn't support cursor position requests (CPR).\n",
            "\u001b[15C\u001b[?7h\u001b[0m\u001b[?12l\u001b[?25h"
          ],
          "name": "stdout"
        }
      ]
    }
  ]
}